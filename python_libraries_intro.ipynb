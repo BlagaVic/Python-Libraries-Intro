{
 "cells": [
  {
   "cell_type": "markdown",
   "metadata": {},
   "source": [
    "## Welcome to the McMaster Artificial Intelligence Society's Intro To Python Libraries!\n",
    "#### In this short tutorial, we will go over some useful introductory Python libraries for data science, as well as their basic implementations. <br> <br>The following libraries will be covered:\n",
    "\n",
    "- JSON\n",
    "- CSV\n",
    "- tqdm\n",
    "- glob\n",
    "- numpy"
   ]
  },
  {
   "cell_type": "markdown",
   "metadata": {},
   "source": [
    "### Let's begin by installing the necessary packages using the code below:<br>"
   ]
  },
  {
   "cell_type": "code",
   "execution_count": null,
   "metadata": {},
   "outputs": [],
   "source": [
    "%pip install --upgrade pip\n",
    "%pip install numpy\n",
    "%pip install glob3\n",
    "%pip install tqdm\n",
    "\n",
    "# If you have multiple versions of Python installed on your computer, you may need to run the following commands \n",
    "# instead:\n",
    "#%pip3 install --upgrade pip\n",
    "#%pip3 install glob3\n",
    "#%pip3 install numpy\n",
    "#%pip3 install tqdm"
   ]
  },
  {
   "cell_type": "markdown",
   "metadata": {},
   "source": [
    "___\n",
    "## JSON: Read/write JSON files and handle them as dictionaries in Python.<br>\n",
    "#### Let's start by creating a sample dictionary item:"
   ]
  },
  {
   "cell_type": "code",
   "execution_count": null,
   "metadata": {},
   "outputs": [],
   "source": [
    "import json\n",
    "keys = [k for k in range(1, 11)]\n",
    "vals = [v for v in list('abcdefghij')]\n",
    "d = dict(zip(keys, vals))\n",
    "print(d)"
   ]
  },
  {
   "cell_type": "markdown",
   "metadata": {},
   "source": [
    "#### Okay, now let's save it to our desktop:"
   ]
  },
  {
   "cell_type": "code",
   "execution_count": null,
   "metadata": {},
   "outputs": [],
   "source": [
    "outpath = '/Users/Victor/Desktop/sample.json'\n",
    "with open(outpath, 'w') as outfile:\n",
    "    json.dump(d, outfile)\n",
    "outfile.close()"
   ]
  },
  {
   "cell_type": "markdown",
   "metadata": {},
   "source": [
    "###### NOTE: We could have also saved a list of dictionaries to our JSON file!\n",
    "___"
   ]
  },
  {
   "cell_type": "markdown",
   "metadata": {},
   "source": [
    "#### We can view a JSON file in a standard text editor, or our IDE (Sublime, PyCharm, etc). Alternatively, we can install the program 'jq' on Linux/Mac/Windows, using Homebrew:\n",
    "\n",
    "*brew install jq* <br> \n",
    "#### Then, simply add the following line to your .bash_profile:\n",
    "###### alias json='function __json() { jq -C . $* | less -R; unset -f __json; }; __json'"
   ]
  },
  {
   "cell_type": "markdown",
   "metadata": {},
   "source": [
    "### Great, now what about reading JSON files in Python? <br>"
   ]
  },
  {
   "cell_type": "code",
   "execution_count": null,
   "metadata": {},
   "outputs": [],
   "source": [
    "data_path = '/Users/Victor/Desktop/sample.json'\n",
    "with open(data_path) as jsonfile:\n",
    "    data = json.load(jsonfile)\n",
    "jsonfile.close()\n",
    "print(data)"
   ]
  },
  {
   "cell_type": "markdown",
   "metadata": {},
   "source": [
    "#### We can print the keys and values:<br>"
   ]
  },
  {
   "cell_type": "code",
   "execution_count": null,
   "metadata": {},
   "outputs": [],
   "source": [
    "print(data.keys())\n",
    "print('\\n')\n",
    "print(data.values())"
   ]
  },
  {
   "cell_type": "markdown",
   "metadata": {},
   "source": [
    "#### And, we can add two dictionaries together:<br>"
   ]
  },
  {
   "cell_type": "code",
   "execution_count": null,
   "metadata": {},
   "outputs": [],
   "source": [
    "d2 = {'11': 'k'}\n",
    "d.update(d2)\n",
    "print(d)"
   ]
  },
  {
   "cell_type": "markdown",
   "metadata": {},
   "source": [
    "___\n",
    "## CSV: Read/write CSV files and handle them as lists in Python.<br>\n",
    "#### Let's start by creating a list of string items:"
   ]
  },
  {
   "cell_type": "code",
   "execution_count": null,
   "metadata": {},
   "outputs": [],
   "source": [
    "my_list = [str(x) for x in range(1, 11)]\n",
    "divided_list = [tuple(my_list[x:x+2]) for x in range(0, 9, 2)]\n",
    "print(divided_list)"
   ]
  },
  {
   "cell_type": "markdown",
   "metadata": {},
   "source": [
    "#### Now let's save this information to a CSV file, where each line is composed of one of the tuples, and each of the two numbers in a tuple is in a separate cell:"
   ]
  },
  {
   "cell_type": "code",
   "execution_count": null,
   "metadata": {},
   "outputs": [],
   "source": [
    "outpath = '/Users/Victor/Desktop/sample.csv'\n",
    "with open(outpath, 'w') as outfile:\n",
    "    for entry in divided_list:\n",
    "        outfile.write(','.join(entry) + '\\n')"
   ]
  },
  {
   "cell_type": "markdown",
   "metadata": {},
   "source": [
    "#### Let's read our CSV file:"
   ]
  },
  {
   "cell_type": "code",
   "execution_count": null,
   "metadata": {},
   "outputs": [],
   "source": [
    "import csv\n",
    "data_path = '/Users/Victor/Desktop/sample.csv'\n",
    "with open(data_path) as csvfile:\n",
    "    csvreader = csv.reader(csvfile)\n",
    "    for entry in csvreader:\n",
    "        print(entry)"
   ]
  },
  {
   "cell_type": "markdown",
   "metadata": {},
   "source": [
    "___"
   ]
  },
  {
   "cell_type": "markdown",
   "metadata": {},
   "source": [
    "## tqdm: A convenient progress bar tool to display the progress of a for loop.<br>\n",
    "#### Let's see an example:"
   ]
  },
  {
   "cell_type": "code",
   "execution_count": null,
   "metadata": {},
   "outputs": [],
   "source": [
    "from tqdm import tqdm_notebook\n",
    "\n",
    "my_list = [x for x in range(0, 25000000)]\n",
    "\n",
    "for i in tqdm_notebook(my_list, total=len(my_list), desc=\"A progress bar!\"):\n",
    "    continue"
   ]
  },
  {
   "cell_type": "markdown",
   "metadata": {},
   "source": [
    "### A few notes:\n",
    "1. When working with a dictionary, set **total=len(list(my_dict.keys())**\n",
    "2. When working outside of Jupyter, use **from tqdm import tqdm**, instead of **from tqdm import tqdm_notebook**"
   ]
  },
  {
   "cell_type": "markdown",
   "metadata": {},
   "source": [
    "___\n",
    "## glob: A package for working with multiple files. <br>\n",
    "### Let's assume we're working with a folder containing multiple files:"
   ]
  },
  {
   "cell_type": "code",
   "execution_count": null,
   "metadata": {},
   "outputs": [],
   "source": [
    "from glob import glob\n",
    "\n",
    "paths = glob('/Users/Victor/Desktop/sample_folder/*')\n",
    "print(paths)"
   ]
  },
  {
   "cell_type": "markdown",
   "metadata": {},
   "source": [
    "#### What if we have folders within folders?"
   ]
  },
  {
   "cell_type": "code",
   "execution_count": null,
   "metadata": {},
   "outputs": [],
   "source": [
    "paths = glob('/Users/Victor/Desktop/sample_folder/**/*', recursive=True)\n",
    "print('\\n'.join(paths))"
   ]
  },
  {
   "cell_type": "markdown",
   "metadata": {},
   "source": [
    "#### And if we only wanted the CSV files?"
   ]
  },
  {
   "cell_type": "code",
   "execution_count": null,
   "metadata": {},
   "outputs": [],
   "source": [
    "paths = glob('/Users/Victor/Desktop/sample_folder/**/*.csv', recursive=True)\n",
    "print('\\n'.join(paths))"
   ]
  },
  {
   "cell_type": "markdown",
   "metadata": {},
   "source": [
    "### Numpy: A package for working with large matrix data.<br>\n",
    "#### Let's create an empty numpy array"
   ]
  },
  {
   "cell_type": "code",
   "execution_count": null,
   "metadata": {},
   "outputs": [],
   "source": [
    "import numpy as np\n",
    "\n",
    "# For decimal values:\n",
    "a = np.linspace(0., 1., 11)\n",
    "print(a)\n",
    "\n",
    "# For integer values:\n",
    "a = np.arange(0, 10)\n",
    "print(a)"
   ]
  },
  {
   "cell_type": "markdown",
   "metadata": {},
   "source": [
    "#### We can also cast a list item to a numpy array:"
   ]
  },
  {
   "cell_type": "code",
   "execution_count": null,
   "metadata": {},
   "outputs": [],
   "source": [
    "my_list = [x for x in range(5, 15)]\n",
    "b = np.array(my_list)\n",
    "print(b)"
   ]
  },
  {
   "cell_type": "markdown",
   "metadata": {},
   "source": [
    "#### Let's check the shape of our array:"
   ]
  },
  {
   "cell_type": "code",
   "execution_count": null,
   "metadata": {},
   "outputs": [],
   "source": [
    "print(b.shape)"
   ]
  },
  {
   "cell_type": "markdown",
   "metadata": {},
   "source": [
    "#### We can add arrays together:"
   ]
  },
  {
   "cell_type": "code",
   "execution_count": null,
   "metadata": {},
   "outputs": [],
   "source": [
    "c = np.concatenate([a, b])\n",
    "print(c)\n",
    "print(c.shape)"
   ]
  },
  {
   "cell_type": "markdown",
   "metadata": {},
   "source": [
    "#### If we wrap each array in a list, it will add them along the Y-axis, rather than the X-axis:"
   ]
  },
  {
   "cell_type": "code",
   "execution_count": null,
   "metadata": {},
   "outputs": [],
   "source": [
    "c = np.concatenate([[a], [b]])\n",
    "print(c)\n",
    "print(c.shape)"
   ]
  },
  {
   "cell_type": "markdown",
   "metadata": {},
   "source": [
    "#### We can transpose the matrix:"
   ]
  },
  {
   "cell_type": "code",
   "execution_count": null,
   "metadata": {},
   "outputs": [],
   "source": [
    "print(c.T)"
   ]
  },
  {
   "cell_type": "markdown",
   "metadata": {},
   "source": [
    "#### When working with large matricies, it is very slow to continually append an array to the end of your output array. It would be much faster if we initialized an array which matched the size and shape of our desired output array, and just changed its values along the way. We can do this with *np.zeros()*. For example:<br>"
   ]
  },
  {
   "cell_type": "code",
   "execution_count": null,
   "metadata": {},
   "outputs": [],
   "source": [
    "# Don't do this:\n",
    "# output = np.array([x for x in range(1, 11)])\n",
    "# for x in my_list_of arrays:\n",
    "#     output.concatenate(x)\n",
    "\n",
    "# Do this:\n",
    "\n",
    "a = np.zeros([5, 10])\n",
    "print(a, '\\n')\n",
    "\n",
    "l = [x for x in range(0, 50)]\n",
    "split_list = [l[i:i + 10] for i in range(0, len(l), 10)]\n",
    "print(split_list, '\\n')\n",
    "\n",
    "for i in range(0, len(split_list)):\n",
    "    a[i] = split_list[i]\n",
    "               \n",
    "print(a)"
   ]
  },
  {
   "cell_type": "markdown",
   "metadata": {},
   "source": [
    "#### We can save our numpy array:"
   ]
  },
  {
   "cell_type": "code",
   "execution_count": null,
   "metadata": {},
   "outputs": [],
   "source": [
    "outpath = '/Users/Victor/Desktop/a.npy'\n",
    "np.save(outpath, a)"
   ]
  },
  {
   "cell_type": "markdown",
   "metadata": {},
   "source": [
    "#### And we can load a numpy array:"
   ]
  },
  {
   "cell_type": "code",
   "execution_count": null,
   "metadata": {},
   "outputs": [],
   "source": [
    "datapath = '/Users/Victor/Desktop/a.npy'\n",
    "a = np.load(datapath)"
   ]
  },
  {
   "cell_type": "code",
   "execution_count": null,
   "metadata": {},
   "outputs": [],
   "source": []
  }
 ],
 "metadata": {
  "kernelspec": {
   "display_name": "Python 3",
   "language": "python",
   "name": "python3"
  },
  "language_info": {
   "codemirror_mode": {
    "name": "ipython",
    "version": 3
   },
   "file_extension": ".py",
   "mimetype": "text/x-python",
   "name": "python",
   "nbconvert_exporter": "python",
   "pygments_lexer": "ipython3",
   "version": "3.7.1"
  }
 },
 "nbformat": 4,
 "nbformat_minor": 2
}
